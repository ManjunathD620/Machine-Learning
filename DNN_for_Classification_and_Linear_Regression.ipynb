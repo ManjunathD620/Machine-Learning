{
  "nbformat": 4,
  "nbformat_minor": 0,
  "metadata": {
    "colab": {
      "name": "DNN for Classification and Linear Regression.ipynb",
      "provenance": [],
      "authorship_tag": "ABX9TyN0v2qn9BwZFRPakhjKXst1",
      "include_colab_link": true
    },
    "kernelspec": {
      "name": "python3",
      "display_name": "Python 3"
    },
    "language_info": {
      "name": "python"
    }
  },
  "cells": [
    {
      "cell_type": "markdown",
      "metadata": {
        "id": "view-in-github",
        "colab_type": "text"
      },
      "source": [
        "<a href=\"https://colab.research.google.com/github/ManjunathD620/Machine-Learning/blob/main/DNN_for_Classification_and_Linear_Regression.ipynb\" target=\"_parent\"><img src=\"https://colab.research.google.com/assets/colab-badge.svg\" alt=\"Open In Colab\"/></a>"
      ]
    },
    {
      "cell_type": "code",
      "metadata": {
        "colab": {
          "base_uri": "https://localhost:8080/"
        },
        "id": "FC9ZmhoygRQe",
        "outputId": "df76f448-f9fb-4ad8-ed5f-9c7d936c512e"
      },
      "source": [
        "from keras.datasets import mnist\n",
        "from matplotlib import pyplot\n",
        "import numpy as np\n",
        "(trainX, trainY), (testX, testY) = mnist.load_data()"
      ],
      "execution_count": 1,
      "outputs": [
        {
          "output_type": "stream",
          "name": "stdout",
          "text": [
            "Downloading data from https://storage.googleapis.com/tensorflow/tf-keras-datasets/mnist.npz\n",
            "11493376/11490434 [==============================] - 0s 0us/step\n",
            "11501568/11490434 [==============================] - 0s 0us/step\n"
          ]
        }
      ]
    },
    {
      "cell_type": "code",
      "metadata": {
        "id": "ZENxUWaDg8Xv"
      },
      "source": [
        "trainX = trainX.astype(\"float32\")\n",
        "testX = testX.astype(\"float32\")\n",
        "trainX = trainX/255.0\n",
        "testX = testX/255.0"
      ],
      "execution_count": 2,
      "outputs": []
    },
    {
      "cell_type": "code",
      "metadata": {
        "id": "mP2KqK-PhQnG"
      },
      "source": [
        "trainX = trainX.reshape(trainX.shape[0],28,28,1)\n",
        "testX = testX.reshape(testX.shape[0],28,28,1)"
      ],
      "execution_count": 3,
      "outputs": []
    },
    {
      "cell_type": "code",
      "metadata": {
        "id": "kBRaKRnbhQqV"
      },
      "source": [
        "from tensorflow.keras.utils import to_categorical\n",
        "trainY = to_categorical(trainY)\n",
        "testY = to_categorical(testY)"
      ],
      "execution_count": 4,
      "outputs": []
    },
    {
      "cell_type": "code",
      "metadata": {
        "id": "gd_Cmpv3hjrO"
      },
      "source": [
        "from keras.models import Sequential\n",
        "from keras.layers import Conv2D\n",
        "from keras.layers import MaxPooling2D\n",
        "from keras.layers import Dense\n",
        "from keras.layers import Flatten\n",
        "from tensorflow.keras.optimizers import SGD\n",
        "\n",
        "model = Sequential()\n",
        "model.add(Conv2D(16, (2, 2), activation='relu', input_shape=(28, 28, 1)))\n",
        "model.add(MaxPooling2D((2, 2)))\n",
        "model.add(Conv2D(32, (2, 2), activation='relu'))\n",
        "model.add(MaxPooling2D((2, 2)))\n",
        "model.add(Conv2D(64, (2, 2), activation='relu'))\n",
        "model.add(MaxPooling2D((2, 2)))\n",
        "model.add(Flatten())\n",
        "model.add(Dense(100, activation='relu'))\n",
        "model.add(Dense(10, activation='softmax'))"
      ],
      "execution_count": 6,
      "outputs": []
    },
    {
      "cell_type": "code",
      "metadata": {
        "colab": {
          "base_uri": "https://localhost:8080/"
        },
        "id": "H8RNWf5Qhjud",
        "outputId": "7b503a3e-7348-4516-85ec-0f44ba5216fa"
      },
      "source": [
        "opt = SGD(lr=0.01, momentum=0.9)\n",
        "model.compile(optimizer=opt, loss='categorical_crossentropy', metrics=['accuracy'])"
      ],
      "execution_count": 7,
      "outputs": [
        {
          "output_type": "stream",
          "name": "stderr",
          "text": [
            "/usr/local/lib/python3.7/dist-packages/keras/optimizer_v2/optimizer_v2.py:356: UserWarning: The `lr` argument is deprecated, use `learning_rate` instead.\n",
            "  \"The `lr` argument is deprecated, use `learning_rate` instead.\")\n"
          ]
        }
      ]
    },
    {
      "cell_type": "code",
      "metadata": {
        "colab": {
          "base_uri": "https://localhost:8080/"
        },
        "id": "qomBJyhXhjyM",
        "outputId": "aaa934e7-e6a1-4d3b-9004-91e7edadf740"
      },
      "source": [
        "model.fit(trainX, trainY ,batch_size=100 ,epochs = 10 ,verbose=1,validation_data=(testX, testY))"
      ],
      "execution_count": 8,
      "outputs": [
        {
          "output_type": "stream",
          "name": "stdout",
          "text": [
            "Epoch 1/10\n",
            "600/600 [==============================] - 24s 40ms/step - loss: 0.5925 - accuracy: 0.8149 - val_loss: 0.1388 - val_accuracy: 0.9551\n",
            "Epoch 2/10\n",
            "600/600 [==============================] - 24s 40ms/step - loss: 0.1201 - accuracy: 0.9616 - val_loss: 0.1111 - val_accuracy: 0.9653\n",
            "Epoch 3/10\n",
            "600/600 [==============================] - 24s 40ms/step - loss: 0.0874 - accuracy: 0.9722 - val_loss: 0.0876 - val_accuracy: 0.9713\n",
            "Epoch 4/10\n",
            "600/600 [==============================] - 24s 40ms/step - loss: 0.0719 - accuracy: 0.9768 - val_loss: 0.0680 - val_accuracy: 0.9783\n",
            "Epoch 5/10\n",
            "600/600 [==============================] - 24s 41ms/step - loss: 0.0615 - accuracy: 0.9806 - val_loss: 0.0585 - val_accuracy: 0.9812\n",
            "Epoch 6/10\n",
            "600/600 [==============================] - 25s 41ms/step - loss: 0.0522 - accuracy: 0.9831 - val_loss: 0.0713 - val_accuracy: 0.9779\n",
            "Epoch 7/10\n",
            "600/600 [==============================] - 24s 39ms/step - loss: 0.0457 - accuracy: 0.9856 - val_loss: 0.0580 - val_accuracy: 0.9809\n",
            "Epoch 8/10\n",
            "600/600 [==============================] - 24s 39ms/step - loss: 0.0424 - accuracy: 0.9861 - val_loss: 0.0574 - val_accuracy: 0.9814\n",
            "Epoch 9/10\n",
            "600/600 [==============================] - 24s 39ms/step - loss: 0.0380 - accuracy: 0.9876 - val_loss: 0.0491 - val_accuracy: 0.9853\n",
            "Epoch 10/10\n",
            "600/600 [==============================] - 24s 39ms/step - loss: 0.0344 - accuracy: 0.9888 - val_loss: 0.0481 - val_accuracy: 0.9849\n"
          ]
        },
        {
          "output_type": "execute_result",
          "data": {
            "text/plain": [
              "<keras.callbacks.History at 0x7ff3dacf32d0>"
            ]
          },
          "metadata": {},
          "execution_count": 8
        }
      ]
    },
    {
      "cell_type": "code",
      "metadata": {
        "colab": {
          "base_uri": "https://localhost:8080/"
        },
        "id": "YcCKSVmDhumi",
        "outputId": "b2bdd6c5-e0fc-4a70-f7d0-19203af99365"
      },
      "source": [
        "result = model.evaluate(testX, testY, batch_size=100)"
      ],
      "execution_count": 10,
      "outputs": [
        {
          "output_type": "stream",
          "name": "stdout",
          "text": [
            "100/100 [==============================] - 1s 13ms/step - loss: 0.0481 - accuracy: 0.9849\n"
          ]
        }
      ]
    },
    {
      "cell_type": "code",
      "metadata": {
        "colab": {
          "base_uri": "https://localhost:8080/",
          "height": 282
        },
        "id": "GhAMI3u2huum",
        "outputId": "02af9287-050d-485a-90f7-e66ab11ffd23"
      },
      "source": [
        "import random\n",
        "pixels = testX[random.randint(0,len(testX)-1)]\n",
        "pixels = np.expand_dims(pixels, axis=0)\n",
        "pyplot.imshow(pixels.reshape(28,28))\n",
        "prediction = model.predict(pixels)\n",
        "index = np.argmax(prediction[0])\n",
        "print(\"predicted value is \"+str(index))"
      ],
      "execution_count": 11,
      "outputs": [
        {
          "output_type": "stream",
          "name": "stdout",
          "text": [
            "predicted value is 7\n"
          ]
        },
        {
          "output_type": "display_data",
          "data": {
            "image/png": "[encoded data removed]",
            "text/plain": [
              "<Figure size 432x288 with 1 Axes>"
            ]
          },
          "metadata": {
            "needs_background": "light"
          }
        }
      ]
    }
  ]
}